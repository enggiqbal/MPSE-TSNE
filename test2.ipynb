{
 "cells": [
  {
   "cell_type": "code",
   "execution_count": 5,
   "metadata": {},
   "outputs": [],
   "source": [
    "import numpy as np\n",
    "import pandas as pd \n",
    "import pylab\n",
    "from sklearn.metrics import pairwise_distances\n",
    "from sklearn.manifold import TSNE"
   ]
  },
  {
   "cell_type": "code",
   "execution_count": 3,
   "metadata": {},
   "outputs": [
    {
     "name": "stderr",
     "output_type": "stream",
     "text": [
      "/tmp/ipykernel_25572/31824977.py:2: SettingWithCopyWarning: \n",
      "A value is trying to be set on a copy of a slice from a DataFrame\n",
      "\n",
      "See the caveats in the documentation: https://pandas.pydata.org/pandas-docs/stable/user_guide/indexing.html#returning-a-view-versus-a-copy\n",
      "  df[\"log(IGC50-1)\"].loc[df[\"log(IGC50-1)\"] <= 0] = 0\n",
      "/tmp/ipykernel_25572/31824977.py:3: SettingWithCopyWarning: \n",
      "A value is trying to be set on a copy of a slice from a DataFrame\n",
      "\n",
      "See the caveats in the documentation: https://pandas.pydata.org/pandas-docs/stable/user_guide/indexing.html#returning-a-view-versus-a-copy\n",
      "  df[\"log(IGC50-1)\"].loc[df[\"log(IGC50-1)\"] > 0] = 1\n"
     ]
    }
   ],
   "source": [
    "df = pd.read_csv('molecules.csv')\n",
    "df[\"log(IGC50-1)\"].loc[df[\"log(IGC50-1)\"] <= 0] = 0\n",
    "df[\"log(IGC50-1)\"].loc[df[\"log(IGC50-1)\"] > 0] = 1\n",
    "X = df.drop([\"mol_id\", \"log(IGC50-1)\"],axis=1).to_numpy()\n",
    "X = np.delete(X,np.where(X.max(axis=0) == 0)[0],axis=1)\n",
    "X /= X.max(axis=0)"
   ]
  },
  {
   "cell_type": "code",
   "execution_count": 18,
   "metadata": {},
   "outputs": [
    {
     "ename": "IndexError",
     "evalue": "index 214 is out of bounds for axis 0 with size 214",
     "output_type": "error",
     "traceback": [
      "\u001b[0;31m---------------------------------------------------------------------------\u001b[0m",
      "\u001b[0;31mIndexError\u001b[0m                                Traceback (most recent call last)",
      "\u001b[1;32m/home/jacobmiller1/Desktop/MPSE-TSNE/test2.ipynb Cell 3\u001b[0m in \u001b[0;36m<cell line: 3>\u001b[0;34m()\u001b[0m\n\u001b[1;32m      <a href='vscode-notebook-cell:/home/jacobmiller1/Desktop/MPSE-TSNE/test2.ipynb#W3sZmlsZQ%3D%3D?line=0'>1</a>\u001b[0m u \u001b[39m=\u001b[39m X\u001b[39m.\u001b[39mmean(axis\u001b[39m=\u001b[39m\u001b[39m0\u001b[39m)\n\u001b[1;32m      <a href='vscode-notebook-cell:/home/jacobmiller1/Desktop/MPSE-TSNE/test2.ipynb#W3sZmlsZQ%3D%3D?line=1'>2</a>\u001b[0m std \u001b[39m=\u001b[39m X\u001b[39m.\u001b[39mstd(axis\u001b[39m=\u001b[39m\u001b[39m0\u001b[39m)\n\u001b[0;32m----> <a href='vscode-notebook-cell:/home/jacobmiller1/Desktop/MPSE-TSNE/test2.ipynb#W3sZmlsZQ%3D%3D?line=2'>3</a>\u001b[0m X \u001b[39m=\u001b[39m np\u001b[39m.\u001b[39;49mdelete(X,np\u001b[39m.\u001b[39;49mwhere(X \u001b[39m>\u001b[39;49m\u001b[39m=\u001b[39;49m u \u001b[39m+\u001b[39;49m \u001b[39m3\u001b[39;49m\u001b[39m*\u001b[39;49mstd)[\u001b[39m0\u001b[39;49m],axis\u001b[39m=\u001b[39;49m\u001b[39m1\u001b[39;49m)\n",
      "File \u001b[0;32m<__array_function__ internals>:5\u001b[0m, in \u001b[0;36mdelete\u001b[0;34m(*args, **kwargs)\u001b[0m\n",
      "File \u001b[0;32m~/anaconda3/envs/gt/lib/python3.9/site-packages/numpy/lib/function_base.py:4552\u001b[0m, in \u001b[0;36mdelete\u001b[0;34m(arr, obj, axis)\u001b[0m\n\u001b[1;32m   4550\u001b[0m \u001b[39melse\u001b[39;00m:\n\u001b[1;32m   4551\u001b[0m     keep \u001b[39m=\u001b[39m ones(N, dtype\u001b[39m=\u001b[39m\u001b[39mbool\u001b[39m)\n\u001b[0;32m-> 4552\u001b[0m     keep[obj,] \u001b[39m=\u001b[39m \u001b[39mFalse\u001b[39;00m\n\u001b[1;32m   4554\u001b[0m slobj[axis] \u001b[39m=\u001b[39m keep\n\u001b[1;32m   4555\u001b[0m new \u001b[39m=\u001b[39m arr[\u001b[39mtuple\u001b[39m(slobj)]\n",
      "\u001b[0;31mIndexError\u001b[0m: index 214 is out of bounds for axis 0 with size 214"
     ]
    }
   ],
   "source": [
    "u = X.mean(axis=0)\n",
    "std = X.std(axis=0)\n",
    "X = np.delete(X,np.where(X >= u + 3*std)[0],axis=0)"
   ]
  },
  {
   "cell_type": "code",
   "execution_count": 7,
   "metadata": {},
   "outputs": [
    {
     "name": "stderr",
     "output_type": "stream",
     "text": [
      "/home/jacobmiller1/anaconda3/envs/gt/lib/python3.9/site-packages/sklearn/manifold/_t_sne.py:982: FutureWarning: The PCA initialization in TSNE will change to have the standard deviation of PC1 equal to 1e-4 in 1.2. This will ensure better convergence.\n",
      "  warnings.warn(\n"
     ]
    },
    {
     "data": {
      "image/png": "[encoded data removed]",
      "text/plain": [
       "<Figure size 432x288 with 1 Axes>"
      ]
     },
     "metadata": {
      "needs_background": "light"
     },
     "output_type": "display_data"
    }
   ],
   "source": [
    "d = pairwise_distances(X)\n",
    "\n",
    "Y = TSNE(perplexity=30,init='pca',learning_rate='auto').fit_transform(d)\n",
    "\n",
    "pylab.scatter(Y[:,0],Y[:,1],30,df[\"log(IGC50-1)\"])\n",
    "pylab.show()"
   ]
  }
 ],
 "metadata": {
  "kernelspec": {
   "display_name": "Python 3.9.7 ('gt')",
   "language": "python",
   "name": "python3"
  },
  "language_info": {
   "codemirror_mode": {
    "name": "ipython",
    "version": 3
   },
   "file_extension": ".py",
   "mimetype": "text/x-python",
   "name": "python",
   "nbconvert_exporter": "python",
   "pygments_lexer": "ipython3",
   "version": "3.9.7"
  },
  "orig_nbformat": 4,
  "vscode": {
   "interpreter": {
    "hash": "b80442c9b3804837b1ce71d16c11fffbc4b78f570ee576b32d9a1e1aa414a393"
   }
  }
 },
 "nbformat": 4,
 "nbformat_minor": 2
}
