{
 "cells": [
  {
   "cell_type": "code",
   "execution_count": 1,
   "metadata": {},
   "outputs": [],
   "source": [
    "import numpy as np \n",
    "import pylab as plt "
   ]
  },
  {
   "cell_type": "code",
   "execution_count": 2,
   "metadata": {},
   "outputs": [],
   "source": [
    "def find_affine_transform(data_1, data_2):\n",
    "#     Compute the centers of the data\n",
    "    center_1 = data_1.mean(axis=0)\n",
    "    center_2= data_2.mean(axis=0)\n",
    "    H = (data_1 - center_1).T @ (data_2 - center_2)\n",
    "#     compute the SVD\n",
    "    U, S, VT = np.linalg.svd(H)\n",
    "#     FInd the rotation matrix\n",
    "    R = U @ VT\n",
    "#     Apply the transformation to data_2\n",
    "    data_2_new = center_1 +  (data_2 - center_2) @ R\n",
    "#     Compute the distance between data_1 and transformed data_2\n",
    "    err = np.linalg.norm(data_1 - data_2_new, 'fro')\n",
    "    return err, data_2_new"
   ]
  },
  {
   "cell_type": "code",
   "execution_count": 6,
   "metadata": {},
   "outputs": [],
   "source": [
    "from sklearn.manifold import TSNE\n",
    "from new_enstsne import load_penguins, ENSTSNE"
   ]
  },
  {
   "cell_type": "code",
   "execution_count": 7,
   "metadata": {},
   "outputs": [
    {
     "name": "stderr",
     "output_type": "stream",
     "text": [
      "/home/jacob/anaconda3/envs/gt/lib/python3.10/site-packages/sklearn/manifold/_t_sne.py:800: FutureWarning: The default initialization in TSNE will change from 'random' to 'pca' in 1.2.\n",
      "  warnings.warn(\n",
      "/home/jacob/anaconda3/envs/gt/lib/python3.10/site-packages/sklearn/manifold/_t_sne.py:810: FutureWarning: The default learning rate in TSNE will change from 200.0 to 'auto' in 1.2.\n",
      "  warnings.warn(\n",
      "/home/jacob/anaconda3/envs/gt/lib/python3.10/site-packages/sklearn/manifold/_t_sne.py:800: FutureWarning: The default initialization in TSNE will change from 'random' to 'pca' in 1.2.\n",
      "  warnings.warn(\n",
      "/home/jacob/anaconda3/envs/gt/lib/python3.10/site-packages/sklearn/manifold/_t_sne.py:810: FutureWarning: The default learning rate in TSNE will change from 200.0 to 'auto' in 1.2.\n",
      "  warnings.warn(\n"
     ]
    }
   ],
   "source": [
    "dists,labels,X = load_penguins()\n",
    "Y1 = TSNE(metric=\"precomputed\").fit_transform(dists[0])\n",
    "Y2 = TSNE(metric=\"precomputed\").fit_transform(dists[1])"
   ]
  },
  {
   "cell_type": "code",
   "execution_count": 8,
   "metadata": {},
   "outputs": [
    {
     "data": {
      "text/plain": [
       "458.35104"
      ]
     },
     "execution_count": 8,
     "metadata": {},
     "output_type": "execute_result"
    }
   ],
   "source": [
    "err,transform = find_affine_transform(Y1,Y2)\n",
    "err"
   ]
  },
  {
   "cell_type": "code",
   "execution_count": 9,
   "metadata": {},
   "outputs": [
    {
     "ename": "TypeError",
     "evalue": "ENSTSNE.__init__() missing 1 required positional argument: 'perplexity'",
     "output_type": "error",
     "traceback": [
      "\u001b[0;31m---------------------------------------------------------------------------\u001b[0m",
      "\u001b[0;31mTypeError\u001b[0m                                 Traceback (most recent call last)",
      "\u001b[1;32m/home/jacob/Desktop/MPSE-TSNE/ENS-t-SNE/eval-redo.ipynb Cell 6\u001b[0m line \u001b[0;36m<cell line: 1>\u001b[0;34m()\u001b[0m\n\u001b[0;32m----> <a href='vscode-notebook-cell:/home/jacob/Desktop/MPSE-TSNE/ENS-t-SNE/eval-redo.ipynb#W5sZmlsZQ%3D%3D?line=0'>1</a>\u001b[0m enstsne \u001b[39m=\u001b[39m ENSTSNE(dists,labels\u001b[39m=\u001b[39;49mlabels)\n\u001b[1;32m      <a href='vscode-notebook-cell:/home/jacob/Desktop/MPSE-TSNE/ENS-t-SNE/eval-redo.ipynb#W5sZmlsZQ%3D%3D?line=1'>2</a>\u001b[0m enstsne\u001b[39m.\u001b[39mgd(\u001b[39m1000\u001b[39m,\u001b[39m0.5\u001b[39m)\n\u001b[1;32m      <a href='vscode-notebook-cell:/home/jacob/Desktop/MPSE-TSNE/ENS-t-SNE/eval-redo.ipynb#W5sZmlsZQ%3D%3D?line=2'>3</a>\u001b[0m Y1,Y2 \u001b[39m=\u001b[39m enstsne\u001b[39m.\u001b[39mget_images()\n",
      "\u001b[0;31mTypeError\u001b[0m: ENSTSNE.__init__() missing 1 required positional argument: 'perplexity'"
     ]
    }
   ],
   "source": [
    "enstsne = ENSTSNE(dists,30,labels=labels)\n",
    "enstsne.gd(1000,0.5)\n",
    "Y1,Y2 = enstsne.get_images()\n"
   ]
  }
 ],
 "metadata": {
  "kernelspec": {
   "display_name": "gt",
   "language": "python",
   "name": "python3"
  },
  "language_info": {
   "codemirror_mode": {
    "name": "ipython",
    "version": 3
   },
   "file_extension": ".py",
   "mimetype": "text/x-python",
   "name": "python",
   "nbconvert_exporter": "python",
   "pygments_lexer": "ipython3",
   "version": "3.10.4"
  }
 },
 "nbformat": 4,
 "nbformat_minor": 2
}
